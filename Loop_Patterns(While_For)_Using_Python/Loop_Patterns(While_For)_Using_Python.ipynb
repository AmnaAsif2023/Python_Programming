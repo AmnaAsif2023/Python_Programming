{
 "cells": [
  {
   "cell_type": "code",
   "execution_count": 7,
   "id": "17e7f057-d662-437a-8dbb-da268ad75862",
   "metadata": {},
   "outputs": [
    {
     "name": "stdout",
     "output_type": "stream",
     "text": [
      "*****\n",
      "*****\n",
      "*****\n",
      "*****\n"
     ]
    }
   ],
   "source": [
    "#For Loop\n",
    "num=4\n",
    "for i in range(num):\n",
    "    for j in range(num + 1):\n",
    "        print(\"*\",end=\"\")\n",
    "    print()\n",
    "    "
   ]
  },
  {
   "cell_type": "code",
   "execution_count": 10,
   "id": "4b6f384f-44da-44e6-a45e-c5b42f4f31f2",
   "metadata": {},
   "outputs": [
    {
     "name": "stdout",
     "output_type": "stream",
     "text": [
      "*\n",
      "**\n",
      "***\n",
      "****\n",
      "*****\n"
     ]
    }
   ],
   "source": [
    "#For Loop\n",
    "num=5\n",
    "for i in range(num):\n",
    "    for j in range(i + 1):\n",
    "        print(\"*\",end=\"\")\n",
    "    print()\n",
    "    "
   ]
  },
  {
   "cell_type": "code",
   "execution_count": 11,
   "id": "6f46fbed-c2ed-4ac7-97be-62414d8d5857",
   "metadata": {},
   "outputs": [
    {
     "name": "stdout",
     "output_type": "stream",
     "text": [
      "*****\n",
      "****\n",
      "***\n",
      "**\n",
      "*\n"
     ]
    }
   ],
   "source": [
    "#For Loop\n",
    "num=5\n",
    "for i in range(num,0,-1):\n",
    "    for j in range(i):\n",
    "        print(\"*\",end=\"\")\n",
    "    print()\n",
    "    "
   ]
  },
  {
   "cell_type": "code",
   "execution_count": 13,
   "id": "b233a4a7-e773-469e-9dcb-e93d289567d5",
   "metadata": {},
   "outputs": [
    {
     "name": "stdout",
     "output_type": "stream",
     "text": [
      "\n",
      "1\n",
      "12\n",
      "123\n",
      "1234\n",
      "12345\n"
     ]
    }
   ],
   "source": [
    "#For Loop\n",
    "for i in range(6):\n",
    "    for j in range(1,i + 1):\n",
    "        print(j,end=\"\")\n",
    "    print()"
   ]
  },
  {
   "cell_type": "code",
   "execution_count": 3,
   "id": "48ea448f-4140-42b0-ba48-ca1a2ef9d2ff",
   "metadata": {},
   "outputs": [
    {
     "name": "stdout",
     "output_type": "stream",
     "text": [
      "12345\n",
      "1234\n",
      "123\n",
      "12\n",
      "1\n"
     ]
    }
   ],
   "source": [
    "#For Loop\n",
    "for i in range(5,0,-1):\n",
    "    for j in range(1,i + 1):\n",
    "        print(j,end=\"\")\n",
    "    print()"
   ]
  },
  {
   "cell_type": "code",
   "execution_count": 2,
   "id": "1b31ff25-67bc-413c-b240-d39f288315b4",
   "metadata": {},
   "outputs": [
    {
     "name": "stdout",
     "output_type": "stream",
     "text": [
      "    *\n",
      "   **\n",
      "  ***\n",
      " ****\n",
      "*****\n"
     ]
    }
   ],
   "source": [
    "#For Loop\n",
    "num = 5\n",
    "for i in range(1, num + 1):\n",
    "    \n",
    "    for j in range(num - i):\n",
    "        print(' ', end='')\n",
    "    \n",
    "    for k in range(i):\n",
    "        print('*', end='')\n",
    "    \n",
    "    print()"
   ]
  },
  {
   "cell_type": "code",
   "execution_count": 4,
   "id": "83043fb5-2c3f-45f7-813d-ec41da74d8f5",
   "metadata": {},
   "outputs": [
    {
     "name": "stdout",
     "output_type": "stream",
     "text": [
      "    **\n",
      "   ****\n",
      "  ******\n",
      " ********\n",
      "**********\n"
     ]
    }
   ],
   "source": [
    "#For Loop\n",
    "num = 5\n",
    "for i in range(1, num + 1):\n",
    "    \n",
    "    for j in range(n - i):\n",
    "        print(' ', end='')\n",
    "\n",
    "    for k in range(i * 2):\n",
    "        print('*', end='')\n",
    "    \n",
    "    print()\n"
   ]
  },
  {
   "cell_type": "code",
   "execution_count": 2,
   "id": "928b69d5-14a3-4ec6-95c3-1bfc2bddaec5",
   "metadata": {},
   "outputs": [
    {
     "name": "stdout",
     "output_type": "stream",
     "text": [
      "    *\n",
      "   ***\n",
      "  *****\n",
      " *******\n",
      "*********\n"
     ]
    }
   ],
   "source": [
    "#For Loop\n",
    "num = 5\n",
    "for i in range(num):\n",
    "  \n",
    "    for j in range(num - i - 1):\n",
    "        print(\" \", end=\"\")\n",
    "\n",
    "    for k in range(2 * i + 1):\n",
    "        print(\"*\", end=\"\")\n",
    "    \n",
    "    print()\n"
   ]
  },
  {
   "cell_type": "code",
   "execution_count": 6,
   "id": "9e8bc6f9-8019-46f8-9144-1a6ba47461de",
   "metadata": {},
   "outputs": [
    {
     "name": "stdout",
     "output_type": "stream",
     "text": [
      "    *\n",
      "   ***\n",
      "  *****\n",
      " *******\n",
      "*********\n",
      " *******\n",
      "  *****\n",
      "   ***\n",
      "    *\n"
     ]
    }
   ],
   "source": [
    "#For Loop\n",
    "n = 5\n",
    "for i in range(n):\n",
    "    \n",
    "    for j in range(n - i - 1):\n",
    "        print(\" \", end=\"\")\n",
    "    for k in range(2 * i + 1):\n",
    "        print(\"*\", end=\"\")\n",
    "    \n",
    "    print()\n",
    "\n",
    "for i in range(n-2, -1, -1):\n",
    "    \n",
    "    for j in range(n - i - 1):\n",
    "        print(\" \", end=\"\")\n",
    "    for k in range(2 * i + 1):\n",
    "        print(\"*\", end=\"\")\n",
    "    \n",
    "    print()\n"
   ]
  },
  {
   "cell_type": "code",
   "execution_count": 8,
   "id": "adc43b35-d187-4e5e-8934-c154b8ae9f78",
   "metadata": {},
   "outputs": [
    {
     "name": "stdout",
     "output_type": "stream",
     "text": [
      "*****\n",
      "*****\n",
      "*****\n",
      "*****\n"
     ]
    }
   ],
   "source": [
    "#While Loop\n",
    "i = 0\n",
    "while (i<4):\n",
    "    print('*****')\n",
    "    i = i + 1"
   ]
  },
  {
   "cell_type": "code",
   "execution_count": 10,
   "id": "8e3bbc6c-ef69-48af-9fd8-a00aac67f652",
   "metadata": {},
   "outputs": [
    {
     "name": "stdout",
     "output_type": "stream",
     "text": [
      "*\n",
      "**\n",
      "***\n",
      "****\n",
      "*****\n"
     ]
    }
   ],
   "source": [
    "#While Loop\n",
    "num = 5\n",
    "\n",
    "i = 1\n",
    "while i <= num:\n",
    "    \n",
    "    j = 1\n",
    "    while j <= i:\n",
    "        print('*', end='')\n",
    "        j += 1\n",
    "    \n",
    "    print()\n",
    "    i += 1\n"
   ]
  },
  {
   "cell_type": "code",
   "execution_count": 11,
   "id": "7d48f1a9-a369-4ca3-bc4c-90c1f9eda56e",
   "metadata": {},
   "outputs": [
    {
     "name": "stdout",
     "output_type": "stream",
     "text": [
      "*****\n",
      "****\n",
      "***\n",
      "**\n",
      "*\n"
     ]
    }
   ],
   "source": [
    "#While Loop\n",
    "num = 5\n",
    "i = num\n",
    "while i >= 1:\n",
    "    \n",
    "    j = 1\n",
    "    while j <= i:\n",
    "        print('*', end='')\n",
    "        j += 1\n",
    "    \n",
    "    print()\n",
    "    i -= 1\n"
   ]
  },
  {
   "cell_type": "code",
   "execution_count": 2,
   "id": "82f8da38-ef15-4e3f-94c8-41541fba3c01",
   "metadata": {},
   "outputs": [
    {
     "name": "stdout",
     "output_type": "stream",
     "text": [
      "1\n",
      "12\n",
      "123\n",
      "1234\n",
      "12345\n"
     ]
    }
   ],
   "source": [
    "#While Loop\n",
    "i = 1\n",
    "while i <= 5:\n",
    "    \n",
    "    j = 1\n",
    "    \n",
    "    \n",
    "    while j <= i:\n",
    "        \n",
    "        print(j, end=\"\")\n",
    "        \n",
    "        j += 1\n",
    "    \n",
    "\n",
    "    print()\n",
    "    \n",
    "    \n",
    "    i += 1\n"
   ]
  },
  {
   "cell_type": "code",
   "execution_count": 3,
   "id": "3e085a3c-11c9-4323-8eb9-d1ee690422a6",
   "metadata": {},
   "outputs": [
    {
     "name": "stdout",
     "output_type": "stream",
     "text": [
      "54321\n",
      "4321\n",
      "321\n",
      "21\n",
      "1\n"
     ]
    }
   ],
   "source": [
    "#While Loop\n",
    "n = 5\n",
    "while n > 0:\n",
    " \n",
    "    num = n\n",
    "   \n",
    "    while num > 0:\n",
    "        print(num, end=\"\")\n",
    "        num -= 1\n",
    "    \n",
    "    print()\n",
    "  \n",
    "    n -= 1\n"
   ]
  },
  {
   "cell_type": "code",
   "execution_count": 7,
   "id": "e6e0a158-a3a2-427a-9d60-26221a36c254",
   "metadata": {},
   "outputs": [
    {
     "name": "stdout",
     "output_type": "stream",
     "text": [
      "    *\n",
      "   **\n",
      "  ***\n",
      " ****\n",
      "*****\n"
     ]
    }
   ],
   "source": [
    "#While Loop\n",
    "n = 5\n",
    "i = 1\n",
    "while i <= n:\n",
    "    \n",
    "    j = n\n",
    "    while j > i:\n",
    "        \n",
    "        print(\" \", end=\"\")\n",
    "        \n",
    "        j -= 1\n",
    "        \n",
    "    \n",
    "    j = 1\n",
    "    \n",
    "    while j <= i:\n",
    "        \n",
    "        print(\"*\", end=\"\")\n",
    "        \n",
    "        j += 1\n",
    "    \n",
    "    print()\n",
    "    \n",
    "    i += 1\n"
   ]
  },
  {
   "cell_type": "code",
   "execution_count": 9,
   "id": "7f787233-5cec-4661-ae7e-05c82eda7497",
   "metadata": {},
   "outputs": [
    {
     "name": "stdout",
     "output_type": "stream",
     "text": [
      "    **\n",
      "   ****\n",
      "  ******\n",
      " ********\n",
      "**********\n"
     ]
    }
   ],
   "source": [
    "#While Loop\n",
    "n = 5\n",
    "i = 1\n",
    "while i <= n:\n",
    "    \n",
    "    j = n\n",
    "    \n",
    "    while j > i:\n",
    "        print(\" \", end=\"\")\n",
    "        j -= 1\n",
    "    j = 1\n",
    "    while j <= i * 2:\n",
    "        print(\"*\", end=\"\")\n",
    "        j += 1\n",
    "\n",
    "    print()\n",
    "    i += 1\n"
   ]
  },
  {
   "cell_type": "code",
   "execution_count": 11,
   "id": "1f6d35bf-2774-4a70-a549-e26f7aa22e0d",
   "metadata": {},
   "outputs": [
    {
     "name": "stdout",
     "output_type": "stream",
     "text": [
      "    *\n",
      "   ***\n",
      "  *****\n",
      " *******\n",
      "*********\n"
     ]
    }
   ],
   "source": [
    "#While Loop\n",
    "n = 5\n",
    "i = 1\n",
    "while i <= n:\n",
    "    j = n\n",
    "    while j > i:\n",
    "        print(\" \", end=\"\")\n",
    "        j -= 1\n",
    "    j = 1\n",
    "    while j <= (2 * i - 1):\n",
    "        print(\"*\", end=\"\")\n",
    "        j += 1\n",
    "    print()\n",
    "    i += 1\n"
   ]
  },
  {
   "cell_type": "code",
   "execution_count": 12,
   "id": "671ece8a-3f0f-4612-b794-6a14e3429c84",
   "metadata": {},
   "outputs": [
    {
     "name": "stdout",
     "output_type": "stream",
     "text": [
      "    *\n",
      "   ***\n",
      "  *****\n",
      " *******\n",
      "*********\n",
      " *******\n",
      "  *****\n",
      "   ***\n",
      "    *\n"
     ]
    }
   ],
   "source": [
    "#While Loop\n",
    "n = 5\n",
    "i = 1\n",
    "while i <= n:\n",
    "    j = 1\n",
    "    while j <= n - i:\n",
    "        print(' ', end='')\n",
    "        j += 1\n",
    "    k = 1\n",
    "    while k <= (2 * i - 1):\n",
    "        print('*', end='')\n",
    "        k += 1\n",
    "    print()\n",
    "    i += 1\n",
    "i = n - 1\n",
    "while i >= 1:\n",
    "    j = 1\n",
    "    while j <= n - i:\n",
    "        print(' ', end='')\n",
    "        j += 1\n",
    "    k = 1\n",
    "    while k <= (2 * i - 1):\n",
    "        print('*', end='')\n",
    "        k += 1\n",
    "    print()\n",
    "    i -= 1\n"
   ]
  },
  {
   "cell_type": "code",
   "execution_count": null,
   "id": "7d30ded6-e98f-4b71-aa0f-0e3ef76ca5ed",
   "metadata": {},
   "outputs": [],
   "source": []
  }
 ],
 "metadata": {
  "kernelspec": {
   "display_name": "Python 3 (ipykernel)",
   "language": "python",
   "name": "python3"
  },
  "language_info": {
   "codemirror_mode": {
    "name": "ipython",
    "version": 3
   },
   "file_extension": ".py",
   "mimetype": "text/x-python",
   "name": "python",
   "nbconvert_exporter": "python",
   "pygments_lexer": "ipython3",
   "version": "3.12.4"
  }
 },
 "nbformat": 4,
 "nbformat_minor": 5
}
