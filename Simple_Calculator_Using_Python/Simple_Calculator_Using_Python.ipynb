{
 "cells": [
  {
   "cell_type": "code",
   "execution_count": 1,
   "id": "ed430677-d2e0-495c-ab05-fbd17903902a",
   "metadata": {},
   "outputs": [
    {
     "name": "stdout",
     "output_type": "stream",
     "text": [
      "***Welcome to my calculator***\n"
     ]
    },
    {
     "name": "stdin",
     "output_type": "stream",
     "text": [
      "What operation do you want to perform? 1.Addition 2.Subtraction 3.Multiplication 4.Division 1\n",
      "Enter first number 10\n",
      "Enter second number 10\n"
     ]
    },
    {
     "name": "stdout",
     "output_type": "stream",
     "text": [
      "Addition is: 20\n"
     ]
    }
   ],
   "source": [
    "# Print a welcome message to the user\n",
    "print(\"***Welcome to my calculator***\")\n",
    "\n",
    "# Prompt the user to select an operation and store the input as an integer\n",
    "operation = int(input(\"What operation do you want to perform? 1.Addition 2.Subtraction 3.Multiplication 4.Division\"))\n",
    "\n",
    "# Prompt the user to enter the first number and store the input as an integer\n",
    "num1 = int(input(\"Enter first number\"))\n",
    "\n",
    "# Prompt the user to enter the second number and store the input as an integer\n",
    "num2 = int(input(\"Enter second number\"))\n",
    "\n",
    "# Check if the selected operation is Addition\n",
    "if operation == 1:\n",
    "    # Print the result of adding num1 and num2\n",
    "    print(\"Addition is:\", str(num1 + num2))\n",
    "# Check if the selected operation is Subtraction\n",
    "elif operation == 2:\n",
    "    # Print the result of subtracting num2 from num1\n",
    "    print(\"Subtraction is:\", str(num1 - num2))\n",
    "# Check if the selected operation is Multiplication\n",
    "elif operation == 3:\n",
    "    # Print the result of multiplying num1 by num2\n",
    "    print(\"Multiplication is:\", str(num1 * num2))\n",
    "# Check if the selected operation is Division\n",
    "elif operation == 4:\n",
    "    # Print the result of dividing num1 by num2\n",
    "    print(\"Division is:\", str(num1 / num2))\n"
   ]
  },
  {
   "cell_type": "code",
   "execution_count": null,
   "id": "b473a978-7b61-42e6-bc84-bcb9c2723b97",
   "metadata": {},
   "outputs": [],
   "source": []
  }
 ],
 "metadata": {
  "kernelspec": {
   "display_name": "Python 3 (ipykernel)",
   "language": "python",
   "name": "python3"
  },
  "language_info": {
   "codemirror_mode": {
    "name": "ipython",
    "version": 3
   },
   "file_extension": ".py",
   "mimetype": "text/x-python",
   "name": "python",
   "nbconvert_exporter": "python",
   "pygments_lexer": "ipython3",
   "version": "3.12.4"
  }
 },
 "nbformat": 4,
 "nbformat_minor": 5
}
