{
 "cells": [
  {
   "cell_type": "code",
   "execution_count": 1,
   "id": "110689bc-3b11-44d7-97f4-17ff34645e46",
   "metadata": {},
   "outputs": [
    {
     "name": "stdout",
     "output_type": "stream",
     "text": [
      "\n",
      "Student Grading Tracker\n",
      "1. Add student and grade\n",
      "2. Get student grade\n",
      "3. Display all students and grades\n",
      "4. Calculate average grade\n",
      "5. Exit\n"
     ]
    },
    {
     "name": "stdin",
     "output_type": "stream",
     "text": [
      "Enter your choice:  1\n",
      "Enter student name:  Amna\n",
      "Enter student grade:  80\n"
     ]
    },
    {
     "name": "stdout",
     "output_type": "stream",
     "text": [
      "Added Amna with grade 80.\n",
      "\n",
      "Student Grading Tracker\n",
      "1. Add student and grade\n",
      "2. Get student grade\n",
      "3. Display all students and grades\n",
      "4. Calculate average grade\n",
      "5. Exit\n"
     ]
    },
    {
     "name": "stdin",
     "output_type": "stream",
     "text": [
      "Enter your choice:  2\n",
      "Enter student name to get the grade:  Amna\n"
     ]
    },
    {
     "name": "stdout",
     "output_type": "stream",
     "text": [
      "Amna has grade 80.\n",
      "\n",
      "Student Grading Tracker\n",
      "1. Add student and grade\n",
      "2. Get student grade\n",
      "3. Display all students and grades\n",
      "4. Calculate average grade\n",
      "5. Exit\n"
     ]
    },
    {
     "name": "stdin",
     "output_type": "stream",
     "text": [
      "Enter your choice:  3\n"
     ]
    },
    {
     "name": "stdout",
     "output_type": "stream",
     "text": [
      "{'Amna': '80'}\n",
      "\n",
      "Student Grading Tracker\n",
      "1. Add student and grade\n",
      "2. Get student grade\n",
      "3. Display all students and grades\n",
      "4. Calculate average grade\n",
      "5. Exit\n"
     ]
    },
    {
     "name": "stdin",
     "output_type": "stream",
     "text": [
      "Enter your choice:  4\n"
     ]
    },
    {
     "name": "stdout",
     "output_type": "stream",
     "text": [
      "The average grade is 80.0.\n",
      "\n",
      "Student Grading Tracker\n",
      "1. Add student and grade\n",
      "2. Get student grade\n",
      "3. Display all students and grades\n",
      "4. Calculate average grade\n",
      "5. Exit\n"
     ]
    },
    {
     "name": "stdin",
     "output_type": "stream",
     "text": [
      "Enter your choice:  5\n"
     ]
    },
    {
     "name": "stdout",
     "output_type": "stream",
     "text": [
      "Exiting the program.\n"
     ]
    }
   ],
   "source": [
    "def add_student(students, name, grade):\n",
    "    if name in students:\n",
    "        print(f\"Student {name} already exists.\")\n",
    "    else:\n",
    "        students[name] = grade\n",
    "        print(f\"Added {name} with grade {grade}.\")\n",
    "\n",
    "def get_student_grade(students, name):\n",
    "    if name in students:\n",
    "        return f\"{name} has grade {students[name]}.\"\n",
    "    else:\n",
    "        return f\"Student {name} not found.\"\n",
    "\n",
    "def display_all_students(students):\n",
    "    return students\n",
    "\n",
    "def calculate_average_grade(students):\n",
    "    if not students:\n",
    "        return \"No students to calculate average.\"\n",
    "    total_grades = sum(float(grade) for grade in students.values())\n",
    "    average = total_grades / len(students)\n",
    "    return f\"The average grade is {average}.\"\n",
    "\n",
    "def main():\n",
    "    students = {}\n",
    "\n",
    "    while True:\n",
    "        print(\"\\nStudent Grading Tracker\")\n",
    "        print(\"1. Add student and grade\")\n",
    "        print(\"2. Get student grade\")\n",
    "        print(\"3. Display all students and grades\")\n",
    "        print(\"4. Calculate average grade\")\n",
    "        print(\"5. Exit\")\n",
    "\n",
    "        choice = input(\"Enter your choice: \")\n",
    "\n",
    "        if choice == '1':\n",
    "            name = input(\"Enter student name: \")\n",
    "            grade = input(\"Enter student grade: \")\n",
    "            add_student(students, name, grade)\n",
    "\n",
    "        elif choice == '2':\n",
    "            name = input(\"Enter student name to get the grade: \")\n",
    "            print(get_student_grade(students, name))\n",
    "\n",
    "        elif choice == '3':\n",
    "            print(display_all_students(students))\n",
    "\n",
    "        elif choice == '4':\n",
    "            print(calculate_average_grade(students))\n",
    "\n",
    "        elif choice == '5':\n",
    "            print(\"Exiting the program.\")\n",
    "            break\n",
    "\n",
    "        else:\n",
    "            print(\"Invalid choice. Please try again.\")\n",
    "\n",
    "if __name__ == \"__main__\":\n",
    "    main()\n"
   ]
  },
  {
   "cell_type": "code",
   "execution_count": null,
   "id": "72688a6e-2207-454e-a1e9-b9bcca5c2aad",
   "metadata": {},
   "outputs": [],
   "source": []
  }
 ],
 "metadata": {
  "kernelspec": {
   "display_name": "Python 3 (ipykernel)",
   "language": "python",
   "name": "python3"
  },
  "language_info": {
   "codemirror_mode": {
    "name": "ipython",
    "version": 3
   },
   "file_extension": ".py",
   "mimetype": "text/x-python",
   "name": "python",
   "nbconvert_exporter": "python",
   "pygments_lexer": "ipython3",
   "version": "3.12.4"
  }
 },
 "nbformat": 4,
 "nbformat_minor": 5
}
