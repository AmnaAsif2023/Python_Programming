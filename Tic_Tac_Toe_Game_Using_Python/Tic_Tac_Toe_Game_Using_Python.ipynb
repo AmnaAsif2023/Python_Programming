{
 "cells": [
  {
   "cell_type": "code",
   "execution_count": 2,
   "id": "2ae28d31-fbc2-4f37-8036-8acd9d3c51cd",
   "metadata": {},
   "outputs": [
    {
     "name": "stdin",
     "output_type": "stream",
     "text": [
      "Enter name for Player 1:  Amna\n",
      "Enter name for Player 2:  Hassan\n"
     ]
    },
    {
     "name": "stdout",
     "output_type": "stream",
     "text": [
      "  |   |  \n",
      "-----\n",
      "  |   |  \n",
      "-----\n",
      "  |   |  \n",
      "-----\n"
     ]
    },
    {
     "name": "stdin",
     "output_type": "stream",
     "text": [
      "Amna, enter the row (1-3):  1\n",
      "Amna, enter the column (1-3):  2\n"
     ]
    },
    {
     "name": "stdout",
     "output_type": "stream",
     "text": [
      "  | X |  \n",
      "-----\n",
      "  |   |  \n",
      "-----\n",
      "  |   |  \n",
      "-----\n"
     ]
    },
    {
     "name": "stdin",
     "output_type": "stream",
     "text": [
      "Hassan, enter the row (1-3):  1\n",
      "Hassan, enter the column (1-3):  1\n"
     ]
    },
    {
     "name": "stdout",
     "output_type": "stream",
     "text": [
      "O | X |  \n",
      "-----\n",
      "  |   |  \n",
      "-----\n",
      "  |   |  \n",
      "-----\n"
     ]
    },
    {
     "name": "stdin",
     "output_type": "stream",
     "text": [
      "Amna, enter the row (1-3):  2\n",
      "Amna, enter the column (1-3):  2\n"
     ]
    },
    {
     "name": "stdout",
     "output_type": "stream",
     "text": [
      "O | X |  \n",
      "-----\n",
      "  | X |  \n",
      "-----\n",
      "  |   |  \n",
      "-----\n"
     ]
    },
    {
     "name": "stdin",
     "output_type": "stream",
     "text": [
      "Hassan, enter the row (1-3):  1\n",
      "Hassan, enter the column (1-3):  3\n"
     ]
    },
    {
     "name": "stdout",
     "output_type": "stream",
     "text": [
      "O | X | O\n",
      "-----\n",
      "  | X |  \n",
      "-----\n",
      "  |   |  \n",
      "-----\n"
     ]
    },
    {
     "name": "stdin",
     "output_type": "stream",
     "text": [
      "Amna, enter the row (1-3):  3\n",
      "Amna, enter the column (1-3):  3\n"
     ]
    },
    {
     "name": "stdout",
     "output_type": "stream",
     "text": [
      "O | X | O\n",
      "-----\n",
      "  | X |  \n",
      "-----\n",
      "  |   | X\n",
      "-----\n"
     ]
    },
    {
     "name": "stdin",
     "output_type": "stream",
     "text": [
      "Hassan, enter the row (1-3):  2\n",
      "Hassan, enter the column (1-3):  3\n"
     ]
    },
    {
     "name": "stdout",
     "output_type": "stream",
     "text": [
      "O | X | O\n",
      "-----\n",
      "  | X | O\n",
      "-----\n",
      "  |   | X\n",
      "-----\n"
     ]
    },
    {
     "name": "stdin",
     "output_type": "stream",
     "text": [
      "Amna, enter the row (1-3):  3\n",
      "Amna, enter the column (1-3):  2\n"
     ]
    },
    {
     "name": "stdout",
     "output_type": "stream",
     "text": [
      "O | X | O\n",
      "-----\n",
      "  | X | O\n",
      "-----\n",
      "  | X | X\n",
      "-----\n",
      "Congratulations Amna, you win!\n"
     ]
    }
   ],
   "source": [
    "def print_board(board):\n",
    "    for row in board:\n",
    "        print(\" | \".join(row))\n",
    "        print(\"-\" * 5)\n",
    "\n",
    "def check_winner(board, player):\n",
    "    # Check rows, columns, and diagonals for a win\n",
    "    for row in board:\n",
    "        if all([cell == player for cell in row]):\n",
    "            return True\n",
    "    \n",
    "    for col in range(3):\n",
    "        if all([board[row][col] == player for row in range(3)]):\n",
    "            return True\n",
    "\n",
    "    if all([board[i][i] == player for i in range(3)]) or all([board[i][2 - i] == player for i in range(3)]):\n",
    "        return True\n",
    "\n",
    "    return False\n",
    "\n",
    "def is_board_full(board):\n",
    "    return all([cell != \" \" for row in board for cell in row])\n",
    "\n",
    "def get_move(player):\n",
    "    while True:\n",
    "        try:\n",
    "            row = int(input(f\"{player}, enter the row (1-3): \")) - 1\n",
    "            col = int(input(f\"{player}, enter the column (1-3): \")) - 1\n",
    "            if row in range(3) and col in range(3):\n",
    "                return row, col\n",
    "            else:\n",
    "                print(\"Invalid input. Please enter numbers between 1 and 3.\")\n",
    "        except ValueError:\n",
    "            print(\"Invalid input. Please enter valid numbers.\")\n",
    "\n",
    "def main():\n",
    "    board = [[\" \" for _ in range(3)] for _ in range(3)]\n",
    "    players = []\n",
    "    \n",
    "    for i in range(1, 3):\n",
    "        player = input(f\"Enter name for Player {i}: \")\n",
    "        players.append(player)\n",
    "    \n",
    "    current_player = 0\n",
    "\n",
    "    while True:\n",
    "        print_board(board)\n",
    "        row, col = get_move(players[current_player])\n",
    "\n",
    "        if board[row][col] == \" \":\n",
    "            board[row][col] = \"X\" if current_player == 0 else \"O\"\n",
    "            if check_winner(board, board[row][col]):\n",
    "                print_board(board)\n",
    "                print(f\"Congratulations {players[current_player]}, you win!\")\n",
    "                break\n",
    "            if is_board_full(board):\n",
    "                print_board(board)\n",
    "                print(\"It's a tie!\")\n",
    "                break\n",
    "            current_player = 1 - current_player\n",
    "        else:\n",
    "            print(\"This cell is already taken. Try again.\")\n",
    "\n",
    "if __name__ == \"__main__\":\n",
    "    main()\n"
   ]
  },
  {
   "cell_type": "code",
   "execution_count": null,
   "id": "e7cf033c-92cd-43dd-acf2-ee721f2a024f",
   "metadata": {},
   "outputs": [],
   "source": []
  }
 ],
 "metadata": {
  "kernelspec": {
   "display_name": "Python 3 (ipykernel)",
   "language": "python",
   "name": "python3"
  },
  "language_info": {
   "codemirror_mode": {
    "name": "ipython",
    "version": 3
   },
   "file_extension": ".py",
   "mimetype": "text/x-python",
   "name": "python",
   "nbconvert_exporter": "python",
   "pygments_lexer": "ipython3",
   "version": "3.12.4"
  }
 },
 "nbformat": 4,
 "nbformat_minor": 5
}
